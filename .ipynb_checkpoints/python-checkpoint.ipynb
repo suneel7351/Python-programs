{
 "cells": [
  {
   "cell_type": "code",
   "execution_count": 1,
   "id": "654cfc5c",
   "metadata": {},
   "outputs": [
    {
     "name": "stdout",
     "output_type": "stream",
     "text": [
      "Name: ['34', '160', '148', '188']\n",
      "Roll No: ['Nitya singh', 'Nibhanshu', 'Drupd dev', 'Suneel Rajput']\n",
      "Age: ['19', '23', '20', '19']\n"
     ]
    },
    {
     "data": {
      "image/png": "[encoded data removed]",
      "text/plain": [
       "<Figure size 432x288 with 1 Axes>"
      ]
     },
     "metadata": {
      "needs_background": "light"
     },
     "output_type": "display_data"
    }
   ],
   "source": [
    "# importing the csv module\n",
    "import csv\n",
    "from matplotlib import pyplot as plt\n",
    "\n",
    "# open the file in read mode\n",
    "filename = open('/home/suneel/Desktop/python/suneel1.csv', 'r')\n",
    "\n",
    "# creating dictreader object# importing the csv module\n",
    "import csv\n",
    "from matplotlib import pyplot as plt\n",
    "\n",
    "# open the file in read mode\n",
    "filename = open('suneel1.csv', 'r')\n",
    "\n",
    "# creating dictreader object\n",
    "file = csv.DictReader(filename)\n",
    "\n",
    "# creating empty lists\n",
    "Name = []\n",
    "RollNo = []\n",
    "Age = []\n",
    "\n",
    "# iterating over each row and append\n",
    "# values to empty list\n",
    "for column in file:\n",
    "    Name.append(column['Roll No.'])\n",
    "    RollNo.append(column['Name'])\n",
    "    Age.append(column['Age'])\n",
    "\n",
    "# printing lists\n",
    "print('Name:', Name)\n",
    "print('Roll No:', RollNo)\n",
    "print('Age:', Age)\n",
    "\n",
    "plt.figure()\n",
    "plt.plot(RollNo,Age)\n",
    "plt.show()\n",
    "\n",
    "\n"
   ]
  },
  {
   "cell_type": "code",
   "execution_count": null,
   "id": "fc90bc54",
   "metadata": {},
   "outputs": [],
   "source": []
  },
  {
   "cell_type": "code",
   "execution_count": 2,
   "id": "c7d40b13",
   "metadata": {},
   "outputs": [
    {
     "name": "stdout",
     "output_type": "stream",
     "text": [
      "[{'logo': 'fas fa-user-md', 'number': '122', 'text': 'Doctor At work'}, {'logo': 'fas fa-hospital-user', 'number': '940', 'text': 'Happy Patients'}, {'logo': 'fas fa-procedures', 'number': '145', 'text': 'Bed Facility'}, {'logo': 'fas fa-hospital', 'number': '5', 'text': 'Hospitals Available'}]\n"
     ]
    }
   ],
   "source": [
    "import json \n",
    "f=open(\"/home/suneel/Desktop/python/db.json\")\n",
    "print(json.load(f)['quality'])\n"
   ]
  },
  {
   "cell_type": "code",
   "execution_count": 3,
   "id": "33d7451e",
   "metadata": {},
   "outputs": [
    {
     "name": "stdout",
     "output_type": "stream",
     "text": [
      "{'name': 'suneel Rajput', 'rollNo': 188, 'branch': 'IT'}\n",
      "{\n",
      "    \"branch\": \"IT\",\n",
      "    \"name\": \"suneel Rajput\",\n",
      "    \"rollNo\": 188\n",
      "}\n"
     ]
    }
   ],
   "source": [
    "import json\n",
    "\n",
    "x={\n",
    "    \"name\":\"suneel Rajput\",\n",
    "    \"rollNo\":188,\n",
    "    \"branch\":\"IT\"\n",
    "}\n",
    "print(x)\n",
    "y=json.dumps(x,indent=4,sort_keys=True)\n",
    "print(y)\n"
   ]
  },
  {
   "cell_type": "code",
   "execution_count": 2,
   "id": "efa6b546",
   "metadata": {},
   "outputs": [
    {
     "name": "stdout",
     "output_type": "stream",
     "text": [
      "<class 'int'>\n",
      "<class 'str'>\n"
     ]
    }
   ],
   "source": [
    "var=10\n",
    "print(type(var))\n",
    "var=\"suneel\"\n",
    "print(type(var))"
   ]
  },
  {
   "cell_type": "code",
   "execution_count": 4,
   "id": "47da8f94",
   "metadata": {},
   "outputs": [
    {
     "name": "stdout",
     "output_type": "stream",
     "text": [
      "1\n",
      "2\n"
     ]
    }
   ],
   "source": [
    "i = 1\n",
    "while True:\n",
    "    if i%3 == 0:\n",
    "        break\n",
    "    print(i)\n",
    " \n",
    "    i += 1\n",
    "    \n",
    "    \n"
   ]
  },
  {
   "cell_type": "code",
   "execution_count": 19,
   "id": "85f86bef",
   "metadata": {},
   "outputs": [
    {
     "ename": "NameError",
     "evalue": "name 'mango' is not defined",
     "output_type": "error",
     "traceback": [
      "\u001b[0;31m---------------------------------------------------------------------------\u001b[0m",
      "\u001b[0;31mNameError\u001b[0m                                 Traceback (most recent call last)",
      "\u001b[0;32m/tmp/ipykernel_2702/1018939466.py\u001b[0m in \u001b[0;36m<module>\u001b[0;34m\u001b[0m\n\u001b[1;32m      1\u001b[0m \u001b[0;31m# print(5**2)\u001b[0m\u001b[0;34m\u001b[0m\u001b[0;34m\u001b[0m\u001b[0m\n\u001b[1;32m      2\u001b[0m \u001b[0;31m# print(13%2)\u001b[0m\u001b[0;34m\u001b[0m\u001b[0;34m\u001b[0m\u001b[0m\n\u001b[0;32m----> 3\u001b[0;31m \u001b[0mapple\u001b[0m \u001b[0;34m=\u001b[0m \u001b[0mmango\u001b[0m\u001b[0;34m\u001b[0m\u001b[0;34m\u001b[0m\u001b[0m\n\u001b[0m",
      "\u001b[0;31mNameError\u001b[0m: name 'mango' is not defined"
     ]
    }
   ],
   "source": [
    "# print(5**2)\n",
    "# print(13%2)\n",
    "apple = mango"
   ]
  },
  {
   "cell_type": "code",
   "execution_count": 24,
   "id": "bec7ac8a",
   "metadata": {},
   "outputs": [
    {
     "name": "stdout",
     "output_type": "stream",
     "text": [
      "hello2hello2\n"
     ]
    }
   ],
   "source": [
    "def example(a):\n",
    "\n",
    "    a = a + '2'\n",
    "\n",
    "    a = a*2\n",
    "\n",
    "    return a\n",
    "\n",
    "\n",
    "print(example(\"hello\"))"
   ]
  },
  {
   "cell_type": "code",
   "execution_count": 28,
   "id": "7e0bc9ec",
   "metadata": {},
   "outputs": [
    {
     "name": "stdout",
     "output_type": "stream",
     "text": [
      "suneelsuneelsuneelsuneelsuneel\n"
     ]
    }
   ],
   "source": [
    "x=\"suneel\"\n",
    "print(x*5)"
   ]
  },
  {
   "cell_type": "code",
   "execution_count": 29,
   "id": "c12a5285",
   "metadata": {},
   "outputs": [
    {
     "ename": "SyntaxError",
     "evalue": "invalid character '‘' (U+2018) (992304178.py, line 1)",
     "output_type": "error",
     "traceback": [
      "\u001b[0;36m  File \u001b[0;32m\"/tmp/ipykernel_2702/992304178.py\"\u001b[0;36m, line \u001b[0;32m1\u001b[0m\n\u001b[0;31m    print(‘hello’ + ‘-‘ + ‘how’ + ‘-‘ + ‘are’ + ‘you’)\u001b[0m\n\u001b[0m          ^\u001b[0m\n\u001b[0;31mSyntaxError\u001b[0m\u001b[0;31m:\u001b[0m invalid character '‘' (U+2018)\n"
     ]
    }
   ],
   "source": [
    "print(‘hello’ + ‘-‘ + ‘how’ + ‘-‘ + ‘are’ + ‘you’)"
   ]
  },
  {
   "cell_type": "code",
   "execution_count": 30,
   "id": "b1a499a7",
   "metadata": {},
   "outputs": [
    {
     "data": {
      "text/plain": [
       "[1, 2, 'hello']"
      ]
     },
     "execution_count": 30,
     "metadata": {},
     "output_type": "execute_result"
    }
   ],
   "source": [
    "l=[1, 0, 2, 0, 'hello', '', []]\n",
    "list(filter(bool, l))"
   ]
  },
  {
   "cell_type": "code",
   "execution_count": 5,
   "id": "fa87bb24",
   "metadata": {},
   "outputs": [],
   "source": [
    "def f(x):\n",
    "    def f1(*args, **kwargs):\n",
    "           print(\"Sanfoundry\")\n",
    "           return x(*args, **kwargs)\n",
    "    return f1\n",
    "\n",
    "\n"
   ]
  },
  {
   "cell_type": "code",
   "execution_count": 36,
   "id": "66e7225e",
   "metadata": {},
   "outputs": [
    {
     "data": {
      "text/plain": [
       "False"
      ]
     },
     "execution_count": 36,
     "metadata": {},
     "output_type": "execute_result"
    }
   ],
   "source": [
    "min(max(False,-3,-4), 2,7)"
   ]
  },
  {
   "cell_type": "code",
   "execution_count": 41,
   "id": "b4d38f03",
   "metadata": {},
   "outputs": [
    {
     "name": "stdout",
     "output_type": "stream",
     "text": [
      "45.24\n"
     ]
    }
   ],
   "source": [
    "x=45.23834533535\n",
    "print(\"%.2f\"%x)\n"
   ]
  },
  {
   "cell_type": "code",
   "execution_count": 6,
   "id": "ccfbe8b0",
   "metadata": {},
   "outputs": [
    {
     "name": "stdout",
     "output_type": "stream",
     "text": [
      "4\n",
      "3\n",
      "2\n",
      "1\n"
     ]
    }
   ],
   "source": [
    "for i in [1, 2, 3, 4][::-1]:\n",
    "    print (i)"
   ]
  },
  {
   "cell_type": "code",
   "execution_count": 7,
   "id": "eede2a1f",
   "metadata": {},
   "outputs": [
    {
     "name": "stdout",
     "output_type": "stream",
     "text": [
      "True\n"
     ]
    }
   ],
   "source": [
    "def foo(x):\n",
    "    x[0] = ['def']\n",
    "    x[1] = ['abc']\n",
    "    return id(x)\n",
    "q = ['abc', 'def']\n",
    "print(id(q) == foo(q))\n"
   ]
  },
  {
   "cell_type": "code",
   "execution_count": 8,
   "id": "c694b95c",
   "metadata": {},
   "outputs": [
    {
     "name": "stdout",
     "output_type": "stream",
     "text": [
      "{'b', 'a', 'c'}\n",
      "{'b', 'a', 'c', 'san'}\n",
      "{'b', 'a', 'p', 'san', 'q', 'c'}\n"
     ]
    }
   ],
   "source": [
    "z=set('abc')\n",
    "print(z)\n",
    "z.add('san')\n",
    "print(z)\n",
    "z.update(set(['p', 'q']))\n",
    "print(z)"
   ]
  },
  {
   "cell_type": "code",
   "execution_count": 55,
   "id": "416c08d7",
   "metadata": {},
   "outputs": [
    {
     "name": "stdout",
     "output_type": "stream",
     "text": [
      "Abc. def\n"
     ]
    }
   ],
   "source": [
    "print(\"abc. DEF\".capitalize())"
   ]
  },
  {
   "cell_type": "code",
   "execution_count": 15,
   "id": "39f32c4f",
   "metadata": {},
   "outputs": [
    {
     "name": "stdout",
     "output_type": "stream",
     "text": [
      "[1, 2, 3, 4, 2, 4, 5, 6]\n",
      "[1, 3, 5, 7, 8]\n"
     ]
    }
   ],
   "source": [
    "list1 = [1,2,3,4]\n",
    "list2 = [2,4,5,6]\n",
    "list3 = [2,6,7,8]\n",
    "print(list1+list2)\n",
    "result = list()\n",
    "result.extend(i for i in list1 if i not in (list2+list3) and i not in result)\n",
    "result.extend(i for i in list2 if i not in (list1+list3) and i not in result)\n",
    "result.extend(i for i in list3 if i not in (list1+list2) and i not in result)\n",
    "print(result)"
   ]
  },
  {
   "cell_type": "code",
   "execution_count": 10,
   "id": "4bdb9e74",
   "metadata": {},
   "outputs": [
    {
     "name": "stdout",
     "output_type": "stream",
     "text": [
      "*abcde *\n"
     ]
    }
   ],
   "source": [
    "print('*', \"abcde\".center(6), '*', sep='')"
   ]
  },
  {
   "cell_type": "code",
   "execution_count": 73,
   "id": "0bc0c598",
   "metadata": {},
   "outputs": [
    {
     "name": "stdout",
     "output_type": "stream",
     "text": [
      "[1, 2, 3, 4, 5]\n"
     ]
    }
   ],
   "source": [
    "x=[1,2,3,4,5]\n",
    "y=x[:]\n",
    "print(y)"
   ]
  },
  {
   "cell_type": "code",
   "execution_count": 14,
   "id": "ef144738",
   "metadata": {},
   "outputs": [
    {
     "name": "stdout",
     "output_type": "stream",
     "text": [
      "2 is  prime\n"
     ]
    }
   ],
   "source": [
    "isPrime=False\n",
    "n=2\n",
    "for i in range(2,n):\n",
    "    if(n%i==0):\n",
    "        isPrime=True\n",
    "        break\n",
    "\n",
    "if isPrime:\n",
    "    print(\"{} is not prime\".format(n))\n",
    "else:\n",
    "     print(\"{} is  prime\".format(n))"
   ]
  },
  {
   "cell_type": "code",
   "execution_count": 13,
   "id": "d60cd10f",
   "metadata": {},
   "outputs": [
    {
     "name": "stdout",
     "output_type": "stream",
     "text": [
      "leenus\n"
     ]
    }
   ],
   "source": [
    "x=\"suneel\"\n",
    "y=list(x)\n",
    "str=\"\"\n",
    "for a in x[::-1]:\n",
    "    str=str+a\n",
    "\n",
    "    \n",
    "print(str)"
   ]
  },
  {
   "cell_type": "code",
   "execution_count": null,
   "id": "38272bfe",
   "metadata": {},
   "outputs": [],
   "source": [
    "import json \n",
    "f=open(\"/home/suneel/Desktop/python/data.json\")\n",
    "print(json.load(f))"
   ]
  },
  {
   "cell_type": "code",
   "execution_count": 1,
   "id": "b4b67194",
   "metadata": {},
   "outputs": [
    {
     "name": "stdout",
     "output_type": "stream",
     "text": [
      "5 X 1 = 5 \n",
      "5 X 2 = 10 \n",
      "5 X 3 = 15 \n",
      "5 X 4 = 20 \n",
      "5 X 5 = 25 \n",
      "5 X 6 = 30 \n",
      "5 X 7 = 35 \n",
      "5 X 8 = 40 \n",
      "5 X 9 = 45 \n",
      "5 X 10 = 50 \n"
     ]
    }
   ],
   "source": [
    "n=5;\n",
    "for i in range(1,11):\n",
    "    print(\"{} X {} = {} \".format(n,i,n*i))\n"
   ]
  },
  {
   "cell_type": "code",
   "execution_count": 3,
   "id": "14c3aa4a",
   "metadata": {},
   "outputs": [
    {
     "name": "stdout",
     "output_type": "stream",
     "text": [
      "45\n"
     ]
    }
   ],
   "source": [
    "table = ['0', '1', '2', '3', '4', '5', '6', '7', '8', '9', 'A' , 'B', 'C', 'D', 'E', 'F']\n",
    "rem=0\n",
    "decimal = 69\n",
    "hexa = ''\n",
    "\n",
    "while(decimal>0):\n",
    "    rem = decimal%16\n",
    "    hexa =table[rem]+ hexa\n",
    "    decimal = decimal//16\n",
    "    \n",
    "print(hexa)\n"
   ]
  },
  {
   "cell_type": "code",
   "execution_count": 4,
   "id": "aea26cce",
   "metadata": {},
   "outputs": [
    {
     "name": "stdout",
     "output_type": "stream",
     "text": [
      "Arjun\n",
      "Aditya dixit\n",
      "Shivam\n",
      "Abhishke\n"
     ]
    }
   ],
   "source": [
    "x=[\"Arjun\",\"Ravi\",\"Aditya dixit\",\"Shivam\",\"Abhishke\"]\n",
    "for i in x:\n",
    "    if len(i)>4:\n",
    "        print(i)"
   ]
  },
  {
   "cell_type": "code",
   "execution_count": 5,
   "id": "beeea3ee",
   "metadata": {},
   "outputs": [
    {
     "name": "stdout",
     "output_type": "stream",
     "text": [
      "12\n"
     ]
    }
   ],
   "source": [
    " x=[\n",
    "    {\n",
    "    \"player1\":23,\n",
    "    \"player2\":45,\n",
    "    \"player3\":12,\n",
    "    \"player4\":89,\n",
    "    \"player5\":34,\n",
    "    \"player6\":62,\n",
    "    \"player7\":90,\n",
    "    \"player8\":3,\n",
    "    \"player9\":15,\n",
    "    \"player10\":7,\n",
    "    \"player11\":12\n",
    "    },\n",
    "    {\n",
    "    \"player1\":23,\n",
    "    \"player2\":45,\n",
    "    \"player3\":12,\n",
    "    \"player4\":89,\n",
    "    \"player5\":34,\n",
    "    \"player6\":62,\n",
    "    \"player7\":90,\n",
    "    \"player8\":3,\n",
    "    \"player9\":15,\n",
    "    \"player10\":7,\n",
    "    \"player11\":12 \n",
    "    },\n",
    "    {\n",
    "    \"player1\":23,\n",
    "    \"player2\":45,\n",
    "    \"player3\":12,\n",
    "    \"player4\":89,\n",
    "    \"player5\":34,\n",
    "    \"player6\":62,\n",
    "    \"player7\":90,\n",
    "    \"player8\":3,\n",
    "    \"player9\":15,\n",
    "    \"player10\":7,\n",
    "    \"player11\":12\n",
    "    }\n",
    "]\n",
    "print(x[1]['player3'])"
   ]
  },
  {
   "cell_type": "code",
   "execution_count": 6,
   "id": "c12648e2",
   "metadata": {},
   "outputs": [
    {
     "name": "stdout",
     "output_type": "stream",
     "text": [
      "Sorted array : \n",
      "\n",
      "2\n",
      "23\n",
      "45\n",
      "46\n",
      "67\n"
     ]
    }
   ],
   "source": [
    "def bubbleSort(arr):\n",
    "    n=len(arr)\n",
    "    for i in range(n):\n",
    "        for j in range(0,n-1-i):\n",
    "            if arr[j]>arr[j+1]:\n",
    "                temp=arr[j]\n",
    "                arr[j]=arr[j+1]\n",
    "                arr[j+1]=temp\n",
    "\n",
    "\n",
    "arr=[23,45,67,2,46]\n",
    "bubbleSort(arr)\n",
    "\n",
    "print(\"Sorted array : \\n\")\n",
    "for i in range(len(arr)):\n",
    "    print(arr[i])\n"
   ]
  },
  {
   "cell_type": "code",
   "execution_count": 7,
   "id": "2859c1d4",
   "metadata": {},
   "outputs": [
    {
     "name": "stdout",
     "output_type": "stream",
     "text": [
      "6\n",
      "13\n",
      "16\n",
      "45\n",
      "53\n"
     ]
    }
   ],
   "source": [
    "def insertoinSort(arr):\n",
    "    n=len(arr)\n",
    "    for i in range(1,n):\n",
    "        key=arr[i]\n",
    "        j=i-1\n",
    "        while j>=0 and key<arr[j]:\n",
    "            arr[j+1]=arr[j]\n",
    "            j=j-1\n",
    "        arr[j+1]=key\n",
    "\n",
    "\n",
    "arr=[45,6,13,16,53]\n",
    "insertoinSort(arr)\n",
    "for i in arr:\n",
    "    print(i)\n"
   ]
  },
  {
   "cell_type": "code",
   "execution_count": 5,
   "id": "7ab89e95",
   "metadata": {},
   "outputs": [
    {
     "name": "stdout",
     "output_type": "stream",
     "text": [
      "\n",
      "name:suneel,empId:188,salary:123456,\n",
      "name:arjun,empId:142,salary:10000,\n",
      "name:aditya,empId:135,salary:9894,\n",
      "name:ravi,empId:175,salary:45893,\n",
      "['\\nname:suneel,empId:188,salary:123456,\\nname:arjun,empId:142,salary:10000,\\nname:aditya,empId:135,salary:9894,\\nname:ravi,empId:175,salary:45893,']\n"
     ]
    }
   ],
   "source": [
    "f=open(\"demo.txt\",\"r\")\n",
    "data=f.read()\n",
    "print(data)\n",
    "l=[]\n",
    "l.append(data)\n",
    "print(l)"
   ]
  },
  {
   "cell_type": "code",
   "execution_count": 10,
   "id": "14997fb2",
   "metadata": {},
   "outputs": [],
   "source": [
    "emp=[\n",
    "{\n",
    "\"name\":\"suneel RAJPUT\",\n",
    "\"empId\":188,\n",
    "\"salary\":123456\n",
    "},\n",
    "{\n",
    "\"name\":\"arjun\",\n",
    "\"empId\":142,\n",
    "\"salary\":10000\n",
    "},\n",
    "{\n",
    "\"name\":\"aditya\",\n",
    "\"empId\":135,\n",
    "\"salary\":9894\n",
    "},\n",
    "{\n",
    "\"name\":\"ravi\",\n",
    "\"empId\":175,\n",
    "\"salary\":45893\n",
    "}\n",
    "]\n",
    "  \n",
    "\n",
    "f=open(\"demo.txt\",'w')\n",
    "for i in range(0,len(emp)):\n",
    "    f.write(\"\\n\")\n",
    "    for key,values in emp[i].items():      \n",
    "        f.write(str(key + \":\" + str(values)+\",\"))\n"
   ]
  },
  {
   "cell_type": "code",
   "execution_count": 13,
   "id": "cac19863",
   "metadata": {},
   "outputs": [
    {
     "ename": "AttributeError",
     "evalue": "'str' object has no attribute 'length'",
     "output_type": "error",
     "traceback": [
      "\u001b[0;31m---------------------------------------------------------------------------\u001b[0m",
      "\u001b[0;31mAttributeError\u001b[0m                            Traceback (most recent call last)",
      "\u001b[0;32m/tmp/ipykernel_2192/2818697044.py\u001b[0m in \u001b[0;36m<module>\u001b[0;34m\u001b[0m\n\u001b[1;32m      3\u001b[0m \u001b[0msed\u001b[0m \u001b[0mdo\u001b[0m \u001b[0meiusmod\u001b[0m \u001b[0mtempor\u001b[0m \u001b[0mincididunt\u001b[0m\u001b[0;34m\u001b[0m\u001b[0;34m\u001b[0m\u001b[0m\n\u001b[1;32m      4\u001b[0m ut labore et dolore magna aliqua.'''\n\u001b[0;32m----> 5\u001b[0;31m \u001b[0mprint\u001b[0m\u001b[0;34m(\u001b[0m\u001b[0ma\u001b[0m\u001b[0;34m.\u001b[0m\u001b[0mlength\u001b[0m\u001b[0;34m)\u001b[0m\u001b[0;34m\u001b[0m\u001b[0;34m\u001b[0m\u001b[0m\n\u001b[0m",
      "\u001b[0;31mAttributeError\u001b[0m: 'str' object has no attribute 'length'"
     ]
    }
   ],
   "source": [
    "a = '''Lorem ipsum dolor sit amet,\n",
    "consectetur adipiscing elit,\n",
    "sed do eiusmod tempor incididunt\n",
    "ut labore et dolore magna aliqua.'''\n"
   ]
  }
 ],
 "metadata": {
  "kernelspec": {
   "display_name": "Python 3 (ipykernel)",
   "language": "python",
   "name": "python3"
  },
  "language_info": {
   "codemirror_mode": {
    "name": "ipython",
    "version": 3
   },
   "file_extension": ".py",
   "mimetype": "text/x-python",
   "name": "python",
   "nbconvert_exporter": "python",
   "pygments_lexer": "ipython3",
   "version": "3.9.7"
  }
 },
 "nbformat": 4,
 "nbformat_minor": 5
}
