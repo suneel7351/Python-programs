{
 "cells": [
  {
   "cell_type": "code",
   "execution_count": 1,
   "id": "40d7ea73",
   "metadata": {},
   "outputs": [
    {
     "name": "stdout",
     "output_type": "stream",
     "text": [
      "2\n",
      "23\n",
      "45\n",
      "46\n",
      "67\n"
     ]
    }
   ],
   "source": [
    "def bubble_sort(arr):\n",
    "    n=len(arr)\n",
    "    for i in range(n):\n",
    "        for j in range(0,n-i-1):\n",
    "            if arr[j]>arr[j+1]:\n",
    "                temp=arr[j]\n",
    "                arr[j]=arr[j+1]\n",
    "                arr[j+1]=temp\n",
    "                \n",
    "arr=[23,45,67,2,46]\n",
    "bubble_sort(arr)\n",
    "for i in range(len(arr)):\n",
    "    print(arr[i])"
   ]
  },
  {
   "cell_type": "code",
   "execution_count": 16,
   "id": "d0712df8",
   "metadata": {},
   "outputs": [
    {
     "name": "stdout",
     "output_type": "stream",
     "text": [
      "The volume of Cube is : 512\n",
      "The volume of Cuboid is : 120\n",
      "The volume of Cylinder is : 785.0\n",
      "The volume of Cone is : 261.6666666666667\n"
     ]
    }
   ],
   "source": [
    "class Box:\n",
    "    def __init__(self, *side):\n",
    "        self.side = side\n",
    "\n",
    "\n",
    "class Cube(Box):\n",
    "\n",
    "    def display(self):\n",
    "        x = self.side[0]\n",
    "        print(\"The volume of Cube is : {}\".format(x*x*x))\n",
    "\n",
    "\n",
    "class Cuboid(Box):\n",
    "\n",
    "    def display(self):\n",
    "        length = self.side[0]\n",
    "        width = self.side[1]\n",
    "        height = self.side[2]\n",
    "        print(\"The volume of Cuboid is : {}\".format(length*width*height))\n",
    "\n",
    "    \n",
    "\n",
    "class Cylinder(Box):\n",
    "\n",
    "    def display(self):\n",
    "        radius = self.side[0]\n",
    "        height = self.side[1]\n",
    "        print(\"The volume of Cylinder is : {}\".format(3.14*radius*radius*height))\n",
    "\n",
    "\n",
    "class Cone(Box):\n",
    "\n",
    "    def display(self):\n",
    "        radius = self.side[0]\n",
    "        height = self.side[1]\n",
    "        print(\"The volume of Cone is : {}\".format(\n",
    "            (1/3)*3.14*radius*radius*height))\n",
    "\n",
    "\n",
    "obj1 = Cube(8)\n",
    "obj1.display()\n",
    "obj2 = Cuboid(4, 5, 6)\n",
    "obj2.display()\n",
    "obj3 = Cylinder(5, 10)\n",
    "obj3.display()\n",
    "obj4 = Cone(5, 10)\n",
    "obj4.display()\n"
   ]
  },
  {
   "cell_type": "code",
   "execution_count": 17,
   "id": "8475c615",
   "metadata": {},
   "outputs": [
    {
     "name": "stdout",
     "output_type": "stream",
     "text": [
      "[1, 3, 4, 5, 6, 7]\n"
     ]
    }
   ],
   "source": []
  },
  {
   "cell_type": "code",
   "execution_count": 12,
   "id": "34423f31",
   "metadata": {},
   "outputs": [
    {
     "name": "stdout",
     "output_type": "stream",
     "text": [
      "Enter a number : 34\n",
      "Not Divisible by 7\n"
     ]
    }
   ],
   "source": [
    "n=int(input(\"Enter a number : \"))\n",
    "if n%7==0:\n",
    "    print(\"Divisible by 7\")\n",
    "else:\n",
    "    print(\"Not Divisible by 7\")"
   ]
  },
  {
   "cell_type": "raw",
   "id": "3637fc20",
   "metadata": {},
   "source": []
  },
  {
   "cell_type": "code",
   "execution_count": 31,
   "id": "528c88ea",
   "metadata": {},
   "outputs": [
    {
     "name": "stdout",
     "output_type": "stream",
     "text": [
      "Enter first element of the gp : 3\n",
      "Enter the ratio of the gp : 4\n",
      "Enter how much term do you want : 10\n",
      "3 12 48 192 768 3072 12288 49152 196608 786432 None\n"
     ]
    }
   ],
   "source": [
    "a=int(input(\"Enter first element of the gp : \"))\n",
    "r=int(input(\"Enter the ratio of the gp : \"))\n",
    "n=int(input(\"Enter how much term do you want : \"))\n",
    " \n",
    "def GP(a, r, n):\n",
    "    for i in range(0, n):\n",
    "        x = a * pow(r, i)\n",
    "        print(x, end =\" \")\n",
    "print(GP(a,r,n)) \n",
    "\n",
    " "
   ]
  },
  {
   "cell_type": "code",
   "execution_count": 22,
   "id": "c82865b0",
   "metadata": {},
   "outputs": [
    {
     "name": "stdout",
     "output_type": "stream",
     "text": [
      "[1, 2, 3, 4, 5, 6, 7, 8, 10]\n",
      "[]\n"
     ]
    }
   ],
   "source": [
    "x=[1,2,3,4,5,6,7,8,10]\n",
    "print(x)\n",
    "for i in x[::-1]:\n",
    "    x.remove(i)\n",
    "print(x)"
   ]
  }
 ],
 "metadata": {
  "kernelspec": {
   "display_name": "Python 3 (ipykernel)",
   "language": "python",
   "name": "python3"
  },
  "language_info": {
   "codemirror_mode": {
    "name": "ipython",
    "version": 3
   },
   "file_extension": ".py",
   "mimetype": "text/x-python",
   "name": "python",
   "nbconvert_exporter": "python",
   "pygments_lexer": "ipython3",
   "version": "3.9.7"
  }
 },
 "nbformat": 4,
 "nbformat_minor": 5
}
